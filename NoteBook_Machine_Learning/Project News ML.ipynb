{
 "cells": [
  {
   "cell_type": "code",
   "execution_count": 2,
   "id": "c74cae8b-b52d-4f82-a676-675012b60ab3",
   "metadata": {},
   "outputs": [],
   "source": [
    "# Load the CSV file\n",
    "\n",
    "import pandas as pd\n",
    "df = pd.read_csv(\"C:\\\\Users\\\\juane\\\\OneDrive\\\\Escritorio\\\\Datos\\\\features_labels.csv\")"
   ]
  },
  {
   "cell_type": "code",
   "execution_count": 3,
   "id": "d3848d3f-24d1-4364-bde8-553723dd3cdd",
   "metadata": {},
   "outputs": [
    {
     "data": {
      "text/html": [
       "<div>\n",
       "<style scoped>\n",
       "    .dataframe tbody tr th:only-of-type {\n",
       "        vertical-align: middle;\n",
       "    }\n",
       "\n",
       "    .dataframe tbody tr th {\n",
       "        vertical-align: top;\n",
       "    }\n",
       "\n",
       "    .dataframe thead th {\n",
       "        text-align: right;\n",
       "    }\n",
       "</style>\n",
       "<table border=\"1\" class=\"dataframe\">\n",
       "  <thead>\n",
       "    <tr style=\"text-align: right;\">\n",
       "      <th></th>\n",
       "      <th>0</th>\n",
       "      <th>1</th>\n",
       "      <th>2</th>\n",
       "      <th>3</th>\n",
       "      <th>4</th>\n",
       "      <th>5</th>\n",
       "      <th>6</th>\n",
       "      <th>7</th>\n",
       "      <th>8</th>\n",
       "      <th>9</th>\n",
       "      <th>...</th>\n",
       "      <th>91</th>\n",
       "      <th>92</th>\n",
       "      <th>93</th>\n",
       "      <th>94</th>\n",
       "      <th>95</th>\n",
       "      <th>96</th>\n",
       "      <th>97</th>\n",
       "      <th>98</th>\n",
       "      <th>99</th>\n",
       "      <th>label</th>\n",
       "    </tr>\n",
       "  </thead>\n",
       "  <tbody>\n",
       "    <tr>\n",
       "      <th>0</th>\n",
       "      <td>8.393402</td>\n",
       "      <td>-82.699070</td>\n",
       "      <td>224.97456</td>\n",
       "      <td>-184.360870</td>\n",
       "      <td>115.632950</td>\n",
       "      <td>-44.428425</td>\n",
       "      <td>161.095250</td>\n",
       "      <td>52.617020</td>\n",
       "      <td>-4.672750</td>\n",
       "      <td>-23.138855</td>\n",
       "      <td>...</td>\n",
       "      <td>-116.917400</td>\n",
       "      <td>20.037370</td>\n",
       "      <td>-47.000920</td>\n",
       "      <td>185.424700</td>\n",
       "      <td>-88.976260</td>\n",
       "      <td>174.31981</td>\n",
       "      <td>30.567362</td>\n",
       "      <td>59.997787</td>\n",
       "      <td>-62.322160</td>\n",
       "      <td>0.0</td>\n",
       "    </tr>\n",
       "    <tr>\n",
       "      <th>1</th>\n",
       "      <td>-7.632062</td>\n",
       "      <td>-5.637404</td>\n",
       "      <td>69.52105</td>\n",
       "      <td>5.914921</td>\n",
       "      <td>-55.462612</td>\n",
       "      <td>-92.002860</td>\n",
       "      <td>-10.661327</td>\n",
       "      <td>-69.697426</td>\n",
       "      <td>-50.270830</td>\n",
       "      <td>66.026080</td>\n",
       "      <td>...</td>\n",
       "      <td>2.782060</td>\n",
       "      <td>-102.426796</td>\n",
       "      <td>-141.408520</td>\n",
       "      <td>90.822815</td>\n",
       "      <td>-35.101303</td>\n",
       "      <td>129.99803</td>\n",
       "      <td>40.220932</td>\n",
       "      <td>-9.928968</td>\n",
       "      <td>97.121850</td>\n",
       "      <td>0.0</td>\n",
       "    </tr>\n",
       "    <tr>\n",
       "      <th>2</th>\n",
       "      <td>40.987960</td>\n",
       "      <td>81.039160</td>\n",
       "      <td>102.12196</td>\n",
       "      <td>-81.862350</td>\n",
       "      <td>123.411255</td>\n",
       "      <td>-87.132935</td>\n",
       "      <td>-2.901389</td>\n",
       "      <td>81.119630</td>\n",
       "      <td>-70.538240</td>\n",
       "      <td>29.654459</td>\n",
       "      <td>...</td>\n",
       "      <td>-50.962563</td>\n",
       "      <td>-54.256393</td>\n",
       "      <td>-91.905410</td>\n",
       "      <td>184.686830</td>\n",
       "      <td>-80.962180</td>\n",
       "      <td>89.75664</td>\n",
       "      <td>59.517975</td>\n",
       "      <td>103.358770</td>\n",
       "      <td>54.863686</td>\n",
       "      <td>0.0</td>\n",
       "    </tr>\n",
       "    <tr>\n",
       "      <th>3</th>\n",
       "      <td>-98.528920</td>\n",
       "      <td>-65.590870</td>\n",
       "      <td>133.72675</td>\n",
       "      <td>-106.533820</td>\n",
       "      <td>103.787870</td>\n",
       "      <td>-81.972860</td>\n",
       "      <td>103.474550</td>\n",
       "      <td>118.767830</td>\n",
       "      <td>45.301334</td>\n",
       "      <td>3.649861</td>\n",
       "      <td>...</td>\n",
       "      <td>-89.563416</td>\n",
       "      <td>9.523295</td>\n",
       "      <td>-129.385620</td>\n",
       "      <td>132.948350</td>\n",
       "      <td>-50.320206</td>\n",
       "      <td>173.57028</td>\n",
       "      <td>33.502846</td>\n",
       "      <td>92.679115</td>\n",
       "      <td>29.308826</td>\n",
       "      <td>0.0</td>\n",
       "    </tr>\n",
       "    <tr>\n",
       "      <th>4</th>\n",
       "      <td>15.474375</td>\n",
       "      <td>-34.089394</td>\n",
       "      <td>123.60596</td>\n",
       "      <td>-90.402740</td>\n",
       "      <td>9.463451</td>\n",
       "      <td>-35.685093</td>\n",
       "      <td>97.138280</td>\n",
       "      <td>50.303032</td>\n",
       "      <td>-17.686377</td>\n",
       "      <td>128.894150</td>\n",
       "      <td>...</td>\n",
       "      <td>-53.616905</td>\n",
       "      <td>64.458700</td>\n",
       "      <td>35.316154</td>\n",
       "      <td>163.837880</td>\n",
       "      <td>-82.975230</td>\n",
       "      <td>157.84734</td>\n",
       "      <td>101.516624</td>\n",
       "      <td>-5.832964</td>\n",
       "      <td>-66.415710</td>\n",
       "      <td>0.0</td>\n",
       "    </tr>\n",
       "  </tbody>\n",
       "</table>\n",
       "<p>5 rows × 101 columns</p>\n",
       "</div>"
      ],
      "text/plain": [
       "           0          1          2           3           4          5  \\\n",
       "0   8.393402 -82.699070  224.97456 -184.360870  115.632950 -44.428425   \n",
       "1  -7.632062  -5.637404   69.52105    5.914921  -55.462612 -92.002860   \n",
       "2  40.987960  81.039160  102.12196  -81.862350  123.411255 -87.132935   \n",
       "3 -98.528920 -65.590870  133.72675 -106.533820  103.787870 -81.972860   \n",
       "4  15.474375 -34.089394  123.60596  -90.402740    9.463451 -35.685093   \n",
       "\n",
       "            6           7          8           9  ...          91          92  \\\n",
       "0  161.095250   52.617020  -4.672750  -23.138855  ... -116.917400   20.037370   \n",
       "1  -10.661327  -69.697426 -50.270830   66.026080  ...    2.782060 -102.426796   \n",
       "2   -2.901389   81.119630 -70.538240   29.654459  ...  -50.962563  -54.256393   \n",
       "3  103.474550  118.767830  45.301334    3.649861  ...  -89.563416    9.523295   \n",
       "4   97.138280   50.303032 -17.686377  128.894150  ...  -53.616905   64.458700   \n",
       "\n",
       "           93          94         95         96          97          98  \\\n",
       "0  -47.000920  185.424700 -88.976260  174.31981   30.567362   59.997787   \n",
       "1 -141.408520   90.822815 -35.101303  129.99803   40.220932   -9.928968   \n",
       "2  -91.905410  184.686830 -80.962180   89.75664   59.517975  103.358770   \n",
       "3 -129.385620  132.948350 -50.320206  173.57028   33.502846   92.679115   \n",
       "4   35.316154  163.837880 -82.975230  157.84734  101.516624   -5.832964   \n",
       "\n",
       "          99  label  \n",
       "0 -62.322160    0.0  \n",
       "1  97.121850    0.0  \n",
       "2  54.863686    0.0  \n",
       "3  29.308826    0.0  \n",
       "4 -66.415710    0.0  \n",
       "\n",
       "[5 rows x 101 columns]"
      ]
     },
     "execution_count": 3,
     "metadata": {},
     "output_type": "execute_result"
    }
   ],
   "source": [
    "# Display the first few rows of the DataFrame\n",
    "df.head()"
   ]
  },
  {
   "cell_type": "code",
   "execution_count": 4,
   "id": "e24b66ea-b3b4-4da4-bb9b-0cb01ab21a12",
   "metadata": {},
   "outputs": [
    {
     "data": {
      "text/plain": [
       "0        0\n",
       "1        0\n",
       "2        0\n",
       "3        0\n",
       "4        0\n",
       "        ..\n",
       "96       0\n",
       "97       0\n",
       "98       0\n",
       "99       0\n",
       "label    0\n",
       "Length: 101, dtype: int64"
      ]
     },
     "execution_count": 4,
     "metadata": {},
     "output_type": "execute_result"
    }
   ],
   "source": [
    "# Count the number of missing values in each column of the DataFrame\n",
    "df.isnull().sum()"
   ]
  },
  {
   "cell_type": "code",
   "execution_count": 5,
   "id": "3162bee7-d99c-4c99-996b-c7b68b9cda44",
   "metadata": {},
   "outputs": [],
   "source": [
    "# Import librearies necesary for machjie learning\n",
    "\n",
    "from sklearn.model_selection import train_test_split\n",
    "from sklearn.ensemble import RandomForestClassifier\n",
    "from sklearn.tree import DecisionTreeClassifier\n",
    "from sklearn.neighbors import KNeighborsClassifier\n",
    "from sklearn.metrics import accuracy_score, precision_score, recall_score, f1_score, confusion_matrix, classification_report\n",
    "import pandas as pd\n",
    "import joblib"
   ]
  },
  {
   "cell_type": "code",
   "execution_count": 6,
   "id": "45e11e20-efcc-45d1-a37b-33456fe42548",
   "metadata": {},
   "outputs": [],
   "source": [
    "# Separate the features and labels\n",
    "X = df.drop(columns=['label']).values\n",
    "y = df['label'].values"
   ]
  },
  {
   "cell_type": "code",
   "execution_count": 7,
   "id": "b23fa9d7-e726-44d5-a4b9-b6f2b94d46c6",
   "metadata": {},
   "outputs": [],
   "source": [
    "# Split the data into training and testing sets\n",
    "X_train, X_test, y_train, y_test = train_test_split(X, y, test_size=0.2, random_state=42)"
   ]
  },
  {
   "cell_type": "code",
   "execution_count": 8,
   "id": "b695ac10-b2a5-4acc-af6e-b18889248616",
   "metadata": {},
   "outputs": [],
   "source": [
    "# Define the evaluation function\n",
    "def evaluate_model(model, X_test, y_test):\n",
    "    y_pred = model.predict(X_test)\n",
    "    accuracy = accuracy_score(y_test, y_pred)\n",
    "    precision = precision_score(y_test, y_pred)\n",
    "    recall = recall_score(y_test, y_pred)\n",
    "    f1 = f1_score(y_test, y_pred)\n",
    "    conf_matrix = confusion_matrix(y_test, y_pred)\n",
    "    report = classification_report(y_test, y_pred)\n",
    "\n",
    "    print(f\"Accuracy: {accuracy}\")\n",
    "    print(f\"Precision: {precision}\")\n",
    "    print(f\"Recall: {recall}\")\n",
    "    print(f\"F1-Score: {f1}\")\n",
    "    print(\"Confusion Matrix:\")\n",
    "    print(conf_matrix)\n",
    "    print(\"Classification Report:\")\n",
    "    print(report)\n",
    "    \n",
    "    return accuracy, precision, recall, f1"
   ]
  },
  {
   "cell_type": "code",
   "execution_count": 9,
   "id": "27eb26f4-368a-412f-8c5d-0ddf186c6033",
   "metadata": {},
   "outputs": [
    {
     "name": "stdout",
     "output_type": "stream",
     "text": [
      "Random Forest\n",
      "Accuracy: 0.9596881959910913\n",
      "Precision: 0.9619500594530321\n",
      "Recall: 0.9524370143630798\n",
      "F1-Score: 0.9571699006152391\n",
      "Confusion Matrix:\n",
      "[[4573  160]\n",
      " [ 202 4045]]\n",
      "Classification Report:\n",
      "              precision    recall  f1-score   support\n",
      "\n",
      "         0.0       0.96      0.97      0.96      4733\n",
      "         1.0       0.96      0.95      0.96      4247\n",
      "\n",
      "    accuracy                           0.96      8980\n",
      "   macro avg       0.96      0.96      0.96      8980\n",
      "weighted avg       0.96      0.96      0.96      8980\n",
      "\n"
     ]
    }
   ],
   "source": [
    "# Random Forest\n",
    "rf_model = RandomForestClassifier(n_estimators=100, random_state=42)\n",
    "rf_model.fit(X_train, y_train)\n",
    "print(\"Random Forest\")\n",
    "rf_metrics = evaluate_model(rf_model, X_test, y_test)"
   ]
  },
  {
   "cell_type": "code",
   "execution_count": 10,
   "id": "e809607f",
   "metadata": {},
   "outputs": [
    {
     "data": {
      "text/plain": [
       "['random_forest_model.pkl']"
      ]
     },
     "execution_count": 10,
     "metadata": {},
     "output_type": "execute_result"
    }
   ],
   "source": [
    "# Save the Random Forest model to a .pkl file\n",
    "joblib.dump(rf_model, 'random_forest_model.pkl')"
   ]
  },
  {
   "cell_type": "code",
   "execution_count": 11,
   "id": "a2392666-f027-4ee4-9b7c-b608808423cc",
   "metadata": {},
   "outputs": [
    {
     "name": "stdout",
     "output_type": "stream",
     "text": [
      "Decision Tree\n",
      "Accuracy: 0.910467706013363\n",
      "Precision: 0.9228690739376074\n",
      "Recall: 0.8846244407817283\n",
      "F1-Score: 0.9033421495551817\n",
      "Confusion Matrix:\n",
      "[[4419  314]\n",
      " [ 490 3757]]\n",
      "Classification Report:\n",
      "              precision    recall  f1-score   support\n",
      "\n",
      "         0.0       0.90      0.93      0.92      4733\n",
      "         1.0       0.92      0.88      0.90      4247\n",
      "\n",
      "    accuracy                           0.91      8980\n",
      "   macro avg       0.91      0.91      0.91      8980\n",
      "weighted avg       0.91      0.91      0.91      8980\n",
      "\n"
     ]
    }
   ],
   "source": [
    "# Decision Tree\n",
    "dt_model = DecisionTreeClassifier(random_state=42)\n",
    "dt_model.fit(X_train, y_train)\n",
    "print(\"Decision Tree\")\n",
    "dt_metrics = evaluate_model(dt_model, X_test, y_test)"
   ]
  },
  {
   "cell_type": "code",
   "execution_count": 12,
   "id": "54bba98e-0723-4f29-9a3c-f34a10ae2bd7",
   "metadata": {},
   "outputs": [
    {
     "name": "stdout",
     "output_type": "stream",
     "text": [
      "K-Nearest Neighbors\n",
      "Accuracy: 0.9408685968819599\n",
      "Precision: 0.9251716247139589\n",
      "Recall: 0.9519660937132093\n",
      "F1-Score: 0.938377625623767\n",
      "Confusion Matrix:\n",
      "[[4406  327]\n",
      " [ 204 4043]]\n",
      "Classification Report:\n",
      "              precision    recall  f1-score   support\n",
      "\n",
      "         0.0       0.96      0.93      0.94      4733\n",
      "         1.0       0.93      0.95      0.94      4247\n",
      "\n",
      "    accuracy                           0.94      8980\n",
      "   macro avg       0.94      0.94      0.94      8980\n",
      "weighted avg       0.94      0.94      0.94      8980\n",
      "\n"
     ]
    }
   ],
   "source": [
    "# K-Nearest Neighbors\n",
    "knn_model = KNeighborsClassifier(n_neighbors=5)\n",
    "knn_model.fit(X_train, y_train)\n",
    "print(\"K-Nearest Neighbors\")\n",
    "knn_metrics = evaluate_model(knn_model, X_test, y_test)"
   ]
  },
  {
   "cell_type": "code",
   "execution_count": 13,
   "id": "657425a5-6e19-4816-b807-4168e719958c",
   "metadata": {},
   "outputs": [],
   "source": [
    "# Collect the metrics into a DataFrame\n",
    "metrics_df = pd.DataFrame({\n",
    "    'Model': ['Random Forest', 'Decision Tree', 'K-Nearest Neighbors'],\n",
    "    'Accuracy': [rf_metrics[0], dt_metrics[0], knn_metrics[0]],\n",
    "    'Precision': [rf_metrics[1], dt_metrics[1], knn_metrics[1]],\n",
    "    'Recall': [rf_metrics[2], dt_metrics[2], knn_metrics[2]],\n",
    "    'F1-Score': [rf_metrics[3], dt_metrics[3], knn_metrics[3]]\n",
    "})"
   ]
  },
  {
   "cell_type": "code",
   "execution_count": 14,
   "id": "1e9e575c-146b-4959-b797-93d67786cb41",
   "metadata": {},
   "outputs": [
    {
     "data": {
      "image/png": "[encoded data removed]",
      "text/plain": [
       "<Figure size 1400x1000 with 4 Axes>"
      ]
     },
     "metadata": {},
     "output_type": "display_data"
    }
   ],
   "source": [
    "import matplotlib.pyplot as plt\n",
    "import seaborn as sns\n",
    "\n",
    "# Set the style of the plots\n",
    "sns.set_style(style=\"whitegrid\")\n",
    "\n",
    "# Create a bar plot for each metric\n",
    "fig, axes = plt.subplots(2, 2, figsize=(14, 10))\n",
    "\n",
    "sns.barplot(x='Model', y='Accuracy', data=metrics_df, ax=axes[0, 0])\n",
    "axes[0, 0].set_title('Accuracy')\n",
    "\n",
    "sns.barplot(x='Model', y='Precision', data=metrics_df, ax=axes[0, 1])\n",
    "axes[0, 1].set_title('Precision')\n",
    "\n",
    "sns.barplot(x='Model', y='Recall', data=metrics_df, ax=axes[1, 0])\n",
    "axes[1, 0].set_title('Recall')\n",
    "\n",
    "sns.barplot(x='Model', y='F1-Score', data=metrics_df, ax=axes[1, 1])\n",
    "axes[1, 1].set_title('F1-Score')\n",
    "\n",
    "plt.tight_layout()\n",
    "plt.show()"
   ]
  },
  {
   "cell_type": "code",
   "execution_count": null,
   "id": "6d3bd14a-87a5-4553-91a6-8096fac64e2f",
   "metadata": {},
   "outputs": [],
   "source": []
  }
 ],
 "metadata": {
  "kernelspec": {
   "display_name": "base",
   "language": "python",
   "name": "python3"
  },
  "language_info": {
   "codemirror_mode": {
    "name": "ipython",
    "version": 3
   },
   "file_extension": ".py",
   "mimetype": "text/x-python",
   "name": "python",
   "nbconvert_exporter": "python",
   "pygments_lexer": "ipython3",
   "version": "3.11.7"
  }
 },
 "nbformat": 4,
 "nbformat_minor": 5
}
