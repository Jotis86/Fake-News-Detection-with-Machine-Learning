{
 "cells": [
  {
   "cell_type": "code",
   "execution_count": 34,
   "id": "64f0738d-3f2c-40b6-94d0-a4f116f0c894",
   "metadata": {},
   "outputs": [],
   "source": [
    "#Import the necessary libraries: pandas, matplotlib, and seaborn\n",
    "import pandas as pd\n",
    "import matplotlib.pyplot as plt\n",
    "import seaborn as sns\n",
    "import warnings\n",
    "warnings.filterwarnings(\"ignore\")"
   ]
  },
  {
   "cell_type": "code",
   "execution_count": 35,
   "id": "68fcde61-525c-47cc-95a7-f3710a49d93a",
   "metadata": {},
   "outputs": [],
   "source": [
    "#load the CSV file\n",
    "df_fake = pd.read_csv(\"C:\\\\Users\\\\juane\\\\OneDrive\\\\Escritorio\\\\Datos\\\\Fake.csv\")\n",
    "df_true = pd.read_csv(\"C:\\\\Users\\\\juane\\\\OneDrive\\\\Escritorio\\\\Datos\\\\True.csv\")"
   ]
  },
  {
   "cell_type": "code",
   "execution_count": 36,
   "id": "94781871-0faa-409c-94f1-9b688d65e00f",
   "metadata": {},
   "outputs": [],
   "source": [
    "df_fake['label'] = 0  # 0 for fake news\n",
    "df_true['label'] = 1  # 1 for true news"
   ]
  },
  {
   "cell_type": "code",
   "execution_count": 37,
   "id": "be32ab8f-4f9e-4003-81bc-0b877e26bf5e",
   "metadata": {},
   "outputs": [],
   "source": [
    "# Concatenate the fake and true news DataFrames, resetting the index\n",
    "df = pd.concat([df_fake, df_true], ignore_index=True)"
   ]
  },
  {
   "cell_type": "code",
   "execution_count": 38,
   "id": "9069cbed-9e9b-45d3-a954-1737971aef2b",
   "metadata": {},
   "outputs": [
    {
     "data": {
      "text/html": [
       "<div>\n",
       "<style scoped>\n",
       "    .dataframe tbody tr th:only-of-type {\n",
       "        vertical-align: middle;\n",
       "    }\n",
       "\n",
       "    .dataframe tbody tr th {\n",
       "        vertical-align: top;\n",
       "    }\n",
       "\n",
       "    .dataframe thead th {\n",
       "        text-align: right;\n",
       "    }\n",
       "</style>\n",
       "<table border=\"1\" class=\"dataframe\">\n",
       "  <thead>\n",
       "    <tr style=\"text-align: right;\">\n",
       "      <th></th>\n",
       "      <th>title</th>\n",
       "      <th>text</th>\n",
       "      <th>subject</th>\n",
       "      <th>date</th>\n",
       "      <th>label</th>\n",
       "    </tr>\n",
       "  </thead>\n",
       "  <tbody>\n",
       "    <tr>\n",
       "      <th>0</th>\n",
       "      <td>Donald Trump Sends Out Embarrassing New Year’...</td>\n",
       "      <td>Donald Trump just couldn t wish all Americans ...</td>\n",
       "      <td>News</td>\n",
       "      <td>December 31, 2017</td>\n",
       "      <td>0</td>\n",
       "    </tr>\n",
       "    <tr>\n",
       "      <th>1</th>\n",
       "      <td>Drunk Bragging Trump Staffer Started Russian ...</td>\n",
       "      <td>House Intelligence Committee Chairman Devin Nu...</td>\n",
       "      <td>News</td>\n",
       "      <td>December 31, 2017</td>\n",
       "      <td>0</td>\n",
       "    </tr>\n",
       "    <tr>\n",
       "      <th>2</th>\n",
       "      <td>Sheriff David Clarke Becomes An Internet Joke...</td>\n",
       "      <td>On Friday, it was revealed that former Milwauk...</td>\n",
       "      <td>News</td>\n",
       "      <td>December 30, 2017</td>\n",
       "      <td>0</td>\n",
       "    </tr>\n",
       "    <tr>\n",
       "      <th>3</th>\n",
       "      <td>Trump Is So Obsessed He Even Has Obama’s Name...</td>\n",
       "      <td>On Christmas day, Donald Trump announced that ...</td>\n",
       "      <td>News</td>\n",
       "      <td>December 29, 2017</td>\n",
       "      <td>0</td>\n",
       "    </tr>\n",
       "    <tr>\n",
       "      <th>4</th>\n",
       "      <td>Pope Francis Just Called Out Donald Trump Dur...</td>\n",
       "      <td>Pope Francis used his annual Christmas Day mes...</td>\n",
       "      <td>News</td>\n",
       "      <td>December 25, 2017</td>\n",
       "      <td>0</td>\n",
       "    </tr>\n",
       "  </tbody>\n",
       "</table>\n",
       "</div>"
      ],
      "text/plain": [
       "                                               title  \\\n",
       "0   Donald Trump Sends Out Embarrassing New Year’...   \n",
       "1   Drunk Bragging Trump Staffer Started Russian ...   \n",
       "2   Sheriff David Clarke Becomes An Internet Joke...   \n",
       "3   Trump Is So Obsessed He Even Has Obama’s Name...   \n",
       "4   Pope Francis Just Called Out Donald Trump Dur...   \n",
       "\n",
       "                                                text subject  \\\n",
       "0  Donald Trump just couldn t wish all Americans ...    News   \n",
       "1  House Intelligence Committee Chairman Devin Nu...    News   \n",
       "2  On Friday, it was revealed that former Milwauk...    News   \n",
       "3  On Christmas day, Donald Trump announced that ...    News   \n",
       "4  Pope Francis used his annual Christmas Day mes...    News   \n",
       "\n",
       "                date  label  \n",
       "0  December 31, 2017      0  \n",
       "1  December 31, 2017      0  \n",
       "2  December 30, 2017      0  \n",
       "3  December 29, 2017      0  \n",
       "4  December 25, 2017      0  "
      ]
     },
     "execution_count": 38,
     "metadata": {},
     "output_type": "execute_result"
    }
   ],
   "source": [
    "# Display the first few rows of the DataFrame\n",
    "df.head()"
   ]
  },
  {
   "cell_type": "code",
   "execution_count": 39,
   "id": "887e75b2-eff6-45bd-b6af-dc28ce2c1c33",
   "metadata": {},
   "outputs": [
    {
     "name": "stderr",
     "output_type": "stream",
     "text": [
      "[nltk_data] Downloading package stopwords to\n",
      "[nltk_data]     C:\\Users\\juane\\AppData\\Roaming\\nltk_data...\n",
      "[nltk_data]   Package stopwords is already up-to-date!\n"
     ]
    }
   ],
   "source": [
    "# Download the list of stopwords from the NLTK library and convert it to a set for faster lookup\n",
    "import nltk\n",
    "\n",
    "nltk.download('stopwords')\n",
    "stop_words = nltk.corpus.stopwords.words('english')\n",
    "stop_words = set(stop_words)\n"
   ]
  },
  {
   "cell_type": "code",
   "execution_count": 40,
   "id": "f7a4417b-d324-4d56-ae19-f3c428642430",
   "metadata": {},
   "outputs": [],
   "source": [
    "import string\n",
    "\n",
    "def clean_word(word: str) -> str:\n",
    "    word = word.lower() # Convert the word to lowercase\n",
    "    word = word.strip() # Remove leading and trailing whitespace\n",
    "    for letter in word:\n",
    "        if letter in string.punctuation:\n",
    "            word = word.replace(letter, '') # Remove punctuation from the word\n",
    "    return word\n",
    "\n",
    "def clean_text(text: str) -> list[str]:\n",
    "    clean_text_list = []\n",
    "    for word in text.split():\n",
    "        cleaned_word = clean_word(word) # Clean each word in the text\n",
    "        if cleaned_word not in stop_words:\n",
    "            clean_text_list.append(cleaned_word) # Add the cleaned word to the list if it's not a stopword\n",
    "    return clean_text_list\n"
   ]
  },
  {
   "cell_type": "code",
   "execution_count": 41,
   "id": "4dbc22d6-a683-4b3b-bd8d-5d958b8744d2",
   "metadata": {},
   "outputs": [],
   "source": [
    "# Apply the clean_text function to the 'text' column and create a new 'clean_text' column\n",
    "df[\"clean_text\"] = df[\"text\"].apply(clean_text)"
   ]
  },
  {
   "cell_type": "code",
   "execution_count": 42,
   "id": "c9feb632-ba88-46d4-91d6-e3e26179ac7c",
   "metadata": {},
   "outputs": [],
   "source": [
    "import gensim\n",
    "\n",
    "EMBEDDING_DIM = 100 # Set the dimensionality of the word vectors\n",
    "sentences = df[\"clean_text\"] # Use the 'clean_text' column as the input sentences for the Word2Vec model\n",
    "\n",
    "model = gensim.models.Word2Vec(\n",
    "    sentences=sentences, # Input sentences\n",
    "    vector_size=EMBEDDING_DIM, # Dimensionality of the word vectors\n",
    "    window=5, # Maximum distance between the current and predicted word within a sentence\n",
    "    min_count=1 # Ignores all words with total frequency lower than this\n",
    ")"
   ]
  },
  {
   "cell_type": "code",
   "execution_count": 43,
   "id": "41d5f3ce-0251-4867-b533-73e48f787f38",
   "metadata": {},
   "outputs": [],
   "source": [
    "# Vectorize text data using the Word2Vec model and convert DataFrame columns to numpy arrays for model training\n",
    "import numpy as np\n",
    "\n",
    "def vectorize_text(text: list[str]) -> np.ndarray:\n",
    "    text_vector = np.zeros(EMBEDDING_DIM, np.float32)\n",
    "    for word in text:\n",
    "        if word in model.wv:\n",
    "            word_vector = model.wv[word]\n",
    "            text_vector += word_vector\n",
    "    return text_vector\n",
    "\n",
    "X = df[\"clean_text\"].apply(vectorize_text)\n",
    "X = np.array(X.tolist(), dtype=np.float32)\n",
    "y = np.array(df[\"label\"].to_list(), dtype=np.float32)"
   ]
  },
  {
   "cell_type": "code",
   "execution_count": 45,
   "id": "efa7f8b3-222a-4646-90a4-4070788a7cad",
   "metadata": {},
   "outputs": [],
   "source": [
    "# Define the full path\n",
    "file_path = \"C:\\\\Users\\\\juane\\\\OneDrive\\\\Escritorio\\\\Datos\\\\features_labels.csv\""
   ]
  },
  {
   "cell_type": "code",
   "execution_count": 46,
   "id": "524b7a11-9513-4138-a608-02dfed4ee449",
   "metadata": {},
   "outputs": [],
   "source": [
    "# Convertir las características a DataFrame\n",
    "features_df = pd.DataFrame(X)"
   ]
  },
  {
   "cell_type": "code",
   "execution_count": 47,
   "id": "34f426f1-f255-4fa1-ac9e-ca27a6718023",
   "metadata": {},
   "outputs": [],
   "source": [
    "# Add the labels to the DataFrame\n",
    "features_df['label'] = y"
   ]
  },
  {
   "cell_type": "code",
   "execution_count": 48,
   "id": "71061da4-8c37-4cc4-86bd-a1e8ef49b80d",
   "metadata": {},
   "outputs": [],
   "source": [
    "# Save the features and labels to a CSV file\n",
    "features_df.to_csv(file_path, index=False)"
   ]
  },
  {
   "cell_type": "code",
   "execution_count": null,
   "id": "3732572a-d8b4-4098-b9cf-c58374c55f27",
   "metadata": {},
   "outputs": [],
   "source": []
  }
 ],
 "metadata": {
  "kernelspec": {
   "display_name": "Python 3 (ipykernel)",
   "language": "python",
   "name": "python3"
  },
  "language_info": {
   "codemirror_mode": {
    "name": "ipython",
    "version": 3
   },
   "file_extension": ".py",
   "mimetype": "text/x-python",
   "name": "python",
   "nbconvert_exporter": "python",
   "pygments_lexer": "ipython3",
   "version": "3.11.7"
  }
 },
 "nbformat": 4,
 "nbformat_minor": 5
}
